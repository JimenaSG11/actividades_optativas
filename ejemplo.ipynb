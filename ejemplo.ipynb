{
 "cells": [
  {
   "cell_type": "markdown",
   "metadata": {},
   "source": [
    "# Mi primer Notebook!"
   ]
  },
  {
   "cell_type": "markdown",
   "metadata": {},
   "source": [
    "2do C. Simon Gil, Jimena"
   ]
  },
  {
   "cell_type": "code",
   "execution_count": 1,
   "metadata": {},
   "outputs": [
    {
     "name": "stdout",
     "output_type": "stream",
     "text": [
      "Hola Mundo\n"
     ]
    }
   ],
   "source": [
    "print(\"Hola Mundo\")"
   ]
  },
  {
   "cell_type": "markdown",
   "metadata": {},
   "source": [
    "## Mis primeros descriptivos con Pandas"
   ]
  },
  {
   "cell_type": "markdown",
   "metadata": {},
   "source": [
    "Importa la biblioteca **pandas** y la asigna al alias **pd**, usada para análisis y manipulación de datos."
   ]
  },
  {
   "cell_type": "code",
   "execution_count": null,
   "metadata": {},
   "outputs": [],
   "source": [
    "import pandas as pd \n",
    "# Crear un DataFrame con pandas"
   ]
  },
  {
   "cell_type": "markdown",
   "metadata": {},
   "source": [
    "Crea un DataFrame `df` con dos columnas (`edad` y `peso`) usando los datos definidos en el diccionario `datos`."
   ]
  },
  {
   "cell_type": "code",
   "execution_count": null,
   "metadata": {},
   "outputs": [],
   "source": [
    "# Crear un diccionario con datos de edad y peso\n",
    "datos = {\n",
    "'edad': [8, 9,10 , 11, 12],\n",
    "'peso': [ 30, 32, 35, 37, 40]\n",
    "}\n",
    "# Convertir el diccionario en un DataFrame de pandas para análisis\n",
    "df = pd.DataFrame(datos)"
   ]
  },
  {
   "cell_type": "markdown",
   "metadata": {},
   "source": [
    "Calcula y muestra la media y desviación estándar de las columnas `edad` y `peso` del DataFrame `df`."
   ]
  },
  {
   "cell_type": "code",
   "execution_count": 20,
   "metadata": {},
   "outputs": [
    {
     "name": "stdout",
     "output_type": "stream",
     "text": [
      "Media de Edad: 10.0\n",
      "Desviación Típica de Edad: 1.5811388300841898\n",
      "Media de Peso: 34.8\n",
      "Desviación Típica de Peso: 3.9623225512317903\n"
     ]
    }
   ],
   "source": [
    "media_edad = df['edad'].mean() # Calcula el promedio de la columna 'edad' y lo guarda en la variable 'media_edad'\n",
    "desviacion_tipica_edad = df['edad'].std() # Calcula la desviación estándar de la columna 'edad' y la guarda en 'desviacion_tipica_edad'\n",
    "\n",
    "media_peso = df['peso'].mean() # Calcula el promedio de la columna 'peso' y lo guarda en la variable 'media_peso'\n",
    "desviacion_tipica_peso = df['peso'].std() # Calcula la desviación estándar de la columna 'peso' y la guarda en 'desviacion_tipica_peso'\n",
    "\n",
    "# Imprime los resultados calculados de la media y desviación estándar para edad y peso\n",
    "print(\"Media de Edad:\", media_edad) # Imprime la media de edad\n",
    "print(\"Desviación Típica de Edad:\", desviacion_tipica_edad) # Imprime la desviación estándar de edad\n",
    "print(\"Media de Peso:\", media_peso) # Imprime la media de peso\n",
    "print(\"Desviación Típica de Peso:\", desviacion_tipica_peso) # Imprime la desviación estándar de peso"
   ]
  }
 ],
 "metadata": {
  "kernelspec": {
   "display_name": "Python 3",
   "language": "python",
   "name": "python3"
  },
  "language_info": {
   "codemirror_mode": {
    "name": "ipython",
    "version": 3
   },
   "file_extension": ".py",
   "mimetype": "text/x-python",
   "name": "python",
   "nbconvert_exporter": "python",
   "pygments_lexer": "ipython3",
   "version": "3.11.9"
  }
 },
 "nbformat": 4,
 "nbformat_minor": 2
}
